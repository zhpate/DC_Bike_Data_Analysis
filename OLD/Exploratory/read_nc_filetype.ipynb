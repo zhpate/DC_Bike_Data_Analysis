{
 "cells": [
  {
   "cell_type": "code",
   "execution_count": 1,
   "metadata": {},
   "outputs": [],
   "source": [
    "import pandas as pd \n",
    "import numpy as np \n",
    "import xarray"
   ]
  },
  {
   "cell_type": "code",
   "execution_count": 4,
   "metadata": {},
   "outputs": [
    {
     "data": {
      "text/plain": [
       "dict_keys(['latitude', 'longitude', 'time', 'lat_bounds', 'lon_bounds', 'time_bounds', 'precip'])"
      ]
     },
     "execution_count": 4,
     "metadata": {},
     "output_type": "execute_result"
    }
   ],
   "source": [
    "#read example .nc data\n",
    "precip_nc_file = '/Users/zacharypate/Desktop/zp3/DC_Bike_Data_Analysis/Exploratory/GPCP Daily Data Jan 1 2022 to May 16 2023.nc'\n",
    "nc = netCDF4.Dataset(precip_nc_file, mode='r')\n",
    "\n",
    "nc.variables.keys()"
   ]
  },
  {
   "cell_type": "code",
   "execution_count": 14,
   "metadata": {},
   "outputs": [],
   "source": [
    "lat = nc.variables['latitude'][:]\n",
    "lon = nc.variables['longitude'][:]\n",
    "time_var = nc.variables['time']\n",
    "dtime = netCDF4.num2date(time_var[:],time_var.units)\n",
    "precip = nc.variables['precip'][:]\n",
    "precip_ts = pd.Series(dtime.data, index=dtime)\n"
   ]
  },
  {
   "cell_type": "code",
   "execution_count": 15,
   "metadata": {},
   "outputs": [
    {
     "data": {
      "text/plain": [
       "2022-01-01 00:00:00    2022-01-01 00:00:00\n",
       "dtype: object"
      ]
     },
     "execution_count": 15,
     "metadata": {},
     "output_type": "execute_result"
    }
   ],
   "source": [
    "precip_ts"
   ]
  },
  {
   "cell_type": "markdown",
   "metadata": {},
   "source": []
  }
 ],
 "metadata": {
  "kernelspec": {
   "display_name": "base",
   "language": "python",
   "name": "python3"
  },
  "language_info": {
   "codemirror_mode": {
    "name": "ipython",
    "version": 3
   },
   "file_extension": ".py",
   "mimetype": "text/x-python",
   "name": "python",
   "nbconvert_exporter": "python",
   "pygments_lexer": "ipython3",
   "version": "3.9.12"
  },
  "orig_nbformat": 4
 },
 "nbformat": 4,
 "nbformat_minor": 2
}
